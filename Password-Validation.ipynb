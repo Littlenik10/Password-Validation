{
 "cells": [
  {
   "cell_type": "markdown",
   "id": "6de03a34-e9b8-47df-a108-b30d409dc38c",
   "metadata": {},
   "source": []
  },
  {
   "cell_type": "code",
   "execution_count": null,
   "id": "1e72b3af-ae8e-41e7-aaa6-03e8aad71774",
   "metadata": {},
   "outputs": [],
   "source": [
    "def password_val(password):\n",
    "    Special_Symbol =['$', '#', '@']\n",
    "    val = True\n",
    "    if not any(char.islower() for char in password):\n",
    "        print('Password should have at least one lowercase letter')\n",
    "        val = False\n",
    "    if not any(char.isupper() for char in password):\n",
    "        print('Password should have at least one uppercase letter')\n",
    "        val = False\n",
    "    if not any(char.isdigit() for char in password):\n",
    "        print('Password should have at least one numeral')\n",
    "        val = False\n",
    "    if not any(char in Special_Symbol for char in password):\n",
    "        print('Password should have at least one of the symbols $#@')\n",
    "        val = False \n",
    "    if len(password) < 6:\n",
    "        print('length should be at least 6')\n",
    "        val = False\n",
    "    if len(password) > 16:\n",
    "        print('length should be not be greater than 16')\n",
    "        val = False\n",
    "    if val:\n",
    "        return val    \n",
    "        \n",
    "# Keep asking for a password until it is valid        \n",
    "while True:\n",
    "    password = str(input('Please enter your password: ')) \n",
    "    result = password_val(password)\n",
    "    if result == True:\n",
    "        print(\"The password is valid.\")\n",
    "        break\n",
    "    else:\n",
    "        print(\"Invalid Password! Password does not meet requirements. Please key in again.\")\n"
   ]
  },
  {
   "cell_type": "code",
   "execution_count": null,
   "id": "fc6e4743-e260-4ea5-a377-17532bf5ce5a",
   "metadata": {},
   "outputs": [],
   "source": []
  }
 ],
 "metadata": {
  "kernelspec": {
   "display_name": "Python 3 (ipykernel)",
   "language": "python",
   "name": "python3"
  },
  "language_info": {
   "codemirror_mode": {
    "name": "ipython",
    "version": 3
   },
   "file_extension": ".py",
   "mimetype": "text/x-python",
   "name": "python",
   "nbconvert_exporter": "python",
   "pygments_lexer": "ipython3",
   "version": "3.11.7"
  }
 },
 "nbformat": 4,
 "nbformat_minor": 5
}
